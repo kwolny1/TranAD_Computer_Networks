{
 "cells": [
  {
   "cell_type": "markdown",
   "id": "43952b6f",
   "metadata": {},
   "source": [
    "# Train TranaAD on Fuzzing_dataset \n",
    "\n",
    "https://www.kaggle.com/datasets/ymirsky/network-attack-dataset-kitsune?resource=download"
   ]
  },
  {
   "cell_type": "code",
   "execution_count": 12,
   "id": "afd090cc",
   "metadata": {},
   "outputs": [],
   "source": [
    "import numpy as np\n",
    "import pandas as pd\n",
    "\n",
    "import seaborn as sns\n",
    "import matplotlib.pyplot as plt\n",
    "import zipfile\n",
    "import os"
   ]
  },
  {
   "cell_type": "code",
   "execution_count": 23,
   "id": "3c2cc7f4",
   "metadata": {},
   "outputs": [],
   "source": [
    "\n",
    "dataset_folder = './data/KITSUNE_FUZZING'\n",
    "output_folder = './TranAD/processed'\n",
    "def normalize3(a, min_a = None, max_a = None):\n",
    "\tif min_a is None: min_a, max_a = np.min(a, axis = 0), np.max(a, axis = 0)\n",
    "\treturn (a - min_a) / (max_a - min_a + 0.0001), min_a, max_a"
   ]
  },
  {
   "cell_type": "code",
   "execution_count": null,
   "id": "c1bd5d97",
   "metadata": {},
   "outputs": [
    {
     "name": "stderr",
     "output_type": "stream",
     "text": [
      "d:\\uczelnia_programowanie\\Anaconda\\lib\\site-packages\\numpy\\lib\\arraysetops.py:580: FutureWarning: elementwise comparison failed; returning scalar instead, but in the future will perform elementwise comparison\n",
      "  mask |= (ar1 == a)\n"
     ]
    }
   ],
   "source": [
    "# Load zipped data\n",
    "zip_path_data = os.path.join(dataset_folder, 'Fuzzing_dataset.csv.zip')\n",
    "with zipfile.ZipFile(zip_path_data, 'r') as zip_ref:\n",
    "    csv_filename = zip_ref.namelist()[0]\n",
    "    with zip_ref.open(csv_filename) as csv_file:\n",
    "        df = pd.read_csv(csv_file, header=None)\n",
    "\n",
    "# Load zipped labels\n",
    "zip_path_label = os.path.join(dataset_folder, 'Fuzzing_labels.csv.zip')\n",
    "with zipfile.ZipFile(zip_path_label, 'r') as zip_ref:\n",
    "    csv_filename = zip_ref.namelist()[0]\n",
    "    with zip_ref.open(csv_filename) as csv_file:\n",
    "        df_labels = pd.read_csv(csv_file, index_col=0)\n",
    "\n",
    "# Sample dataset\n",
    "sample = int(0.01 * len(df))\n",
    "df = df.head(sample)\n",
    "df_labels = df_labels.head(sample)\n",
    "\n",
    "# Split into train/test \n",
    "split = int(0.5 * len(df))\n",
    "df_train = df[:split]\n",
    "df_test = df[split:]\n",
    "labels = df_labels.iloc[split:]  # Keep it a DataFrame\n",
    "labels = pd.DataFrame(labels[\"x\"].apply(lambda x: [x]*115).to_list())\n",
    "\n",
    "_, min_a, max_a = normalize3(np.concatenate((df_train, df_test), axis=0))\n",
    "train, _, _ = normalize3(df_train, min_a, max_a)\n",
    "test, _, _ = normalize3(df_test, min_a, max_a)\n",
    "\n",
    "# Make sure labels are binary and match shape\n",
    "labels = labels.to_numpy().astype(np.float64)\n",
    "assert labels.shape[0] == test.shape[0], \"Mismatch in test and label shapes\"\n",
    "\n",
    "# Save to npy files\n",
    "output_dir = os.path.join(output_folder, 'KITSUNE_FUZZING')\n",
    "os.makedirs(output_dir, exist_ok=True)\n",
    "for file, data in zip(['train', 'test', 'labels'], [train, test, labels]):\n",
    "    np.save(os.path.join(output_dir, f'{file}.npy'), data)"
   ]
  },
  {
   "cell_type": "code",
   "execution_count": 1,
   "id": "85721f90",
   "metadata": {},
   "outputs": [
    {
     "name": "stdout",
     "output_type": "stream",
     "text": [
      "d:\\MINI_DS\\Semester 1\\Optimization in Data Analysis\\TranAD_Computer_Networks\\TranAD\n"
     ]
    }
   ],
   "source": [
    "%cd TranAD"
   ]
  },
  {
   "cell_type": "code",
   "execution_count": 2,
   "id": "bff539f6",
   "metadata": {},
   "outputs": [
    {
     "name": "stdout",
     "output_type": "stream",
     "text": [
      "Python 3.7.4\n"
     ]
    }
   ],
   "source": [
    "!python --version"
   ]
  },
  {
   "cell_type": "code",
   "execution_count": 32,
   "id": "0a04fd63",
   "metadata": {},
   "outputs": [
    {
     "name": "stderr",
     "output_type": "stream",
     "text": [
      "d:\\uczelnia_programowanie\\Anaconda\\lib\\site-packages\\numpy\\lib\\arraysetops.py:580: FutureWarning: elementwise comparison failed; returning scalar instead, but in the future will perform elementwise comparison\n",
      "  mask |= (ar1 == a)\n"
     ]
    }
   ],
   "source": [
    "!python preprocess.py KITSUNE_FUZZING"
   ]
  },
  {
   "cell_type": "code",
   "execution_count": 36,
   "id": "7b5a07e8",
   "metadata": {},
   "outputs": [
    {
     "name": "stdout",
     "output_type": "stream",
     "text": [
      "\u001b[1mSlicing dataset to 20%\u001b[0m"
     ]
    },
    {
     "name": "stderr",
     "output_type": "stream",
     "text": [
      "\n",
      "  0%|          | 0/20 [00:00<?, ?it/s]\n",
      "                                      \n",
      "\n",
      "  0%|          | 0/20 [00:11<?, ?it/s]\n",
      "  5%|▌         | 1/20 [00:11<03:43, 11.78s/it]\n",
      "                                              \n",
      "\n",
      "  5%|▌         | 1/20 [00:22<03:43, 11.78s/it]\n",
      " 10%|█         | 2/20 [00:22<03:23, 11.31s/it]\n",
      "                                              \n",
      "\n",
      " 10%|█         | 2/20 [00:34<03:23, 11.31s/it]\n",
      " 15%|█▌        | 3/20 [00:34<03:14, 11.43s/it]\n",
      "                                              \n",
      "\n",
      " 15%|█▌        | 3/20 [00:45<03:14, 11.43s/it]\n",
      " 20%|██        | 4/20 [00:45<02:59, 11.25s/it]\n",
      "                                              \n",
      "\n",
      " 20%|██        | 4/20 [00:56<02:59, 11.25s/it]\n",
      " 25%|██▌       | 5/20 [00:56<02:47, 11.17s/it]\n",
      "                                              \n",
      "\n",
      " 25%|██▌       | 5/20 [01:07<02:47, 11.17s/it]\n",
      " 30%|███       | 6/20 [01:07<02:35, 11.14s/it]\n",
      "                                              \n",
      "\n",
      " 30%|███       | 6/20 [01:18<02:35, 11.14s/it]\n",
      " 35%|███▌      | 7/20 [01:18<02:24, 11.08s/it]\n",
      "                                              \n",
      "\n",
      " 35%|███▌      | 7/20 [01:29<02:24, 11.08s/it]\n",
      " 40%|████      | 8/20 [01:29<02:13, 11.10s/it]\n",
      "                                              \n",
      "\n",
      " 40%|████      | 8/20 [01:40<02:13, 11.10s/it]\n",
      " 45%|████▌     | 9/20 [01:40<02:03, 11.20s/it]\n",
      "                                              \n",
      "\n",
      " 45%|████▌     | 9/20 [01:52<02:03, 11.20s/it]\n",
      " 50%|█████     | 10/20 [01:52<01:51, 11.19s/it]\n",
      "                                               \n",
      "\n",
      " 50%|█████     | 10/20 [02:02<01:51, 11.19s/it]\n",
      " 55%|█████▌    | 11/20 [02:02<01:39, 11.08s/it]\n",
      "                                               \n",
      "\n",
      " 55%|█████▌    | 11/20 [02:13<01:39, 11.08s/it]\n",
      " 60%|██████    | 12/20 [02:13<01:28, 11.06s/it]\n",
      "                                               \n",
      "\n",
      " 60%|██████    | 12/20 [02:24<01:28, 11.06s/it]\n",
      " 65%|██████▌   | 13/20 [02:24<01:17, 11.02s/it]\n",
      "                                               \n",
      "\n",
      " 65%|██████▌   | 13/20 [02:35<01:17, 11.02s/it]\n",
      " 70%|███████   | 14/20 [02:35<01:06, 11.02s/it]\n",
      "                                               \n",
      "\n",
      " 70%|███████   | 14/20 [02:47<01:06, 11.02s/it]\n",
      " 75%|███████▌  | 15/20 [02:47<00:55, 11.06s/it]\n",
      "                                               \n",
      "\n",
      " 75%|███████▌  | 15/20 [02:57<00:55, 11.06s/it]\n",
      " 80%|████████  | 16/20 [02:57<00:44, 11.03s/it]\n",
      "                                               \n",
      "\n",
      " 80%|████████  | 16/20 [03:08<00:44, 11.03s/it]\n",
      " 85%|████████▌ | 17/20 [03:08<00:32, 10.99s/it]\n",
      "                                               \n",
      "\n",
      " 85%|████████▌ | 17/20 [03:19<00:32, 10.99s/it]\n",
      " 90%|█████████ | 18/20 [03:19<00:21, 10.99s/it]\n",
      "                                               \n"
     ]
    },
    {
     "name": "stdout",
     "output_type": "stream",
     "text": [
      "\n",
      "TRAIN Input batch shape: torch.Size([2244, 115])\n",
      "TEST Input batch shape: torch.Size([11221, 115])\n",
      "(11221, 115)\n",
      "\u001b[92mCreating new model: TranAD\u001b[0m\n",
      "\u001b[95mTraining TranAD on KITSUNE_FUZZING\u001b[0m\n",
      "Epoch 0,\tL1 = 0.044068844023848454\n",
      "Epoch 1,\tL1 = 0.024981724763289883\n",
      "Epoch 2,\tL1 = 0.008607851185593225\n",
      "Epoch 3,\tL1 = 0.005671934756795925\n",
      "Epoch 4,\tL1 = 0.004453076970740367\n",
      "Epoch 5,\tL1 = 0.0036363154412567805\n",
      "Epoch 6,\tL1 = 0.0031782096843821304\n",
      "Epoch 7,\tL1 = 0.0027564744762899507\n",
      "Epoch 8,\tL1 = 0.0025069251061717486\n",
      "Epoch 9,\tL1 = 0.0022749090843925297\n",
      "Epoch 10,\tL1 = 0.0021263254709545792\n",
      "Epoch 11,\tL1 = 0.001973368377323426\n",
      "Epoch 12,\tL1 = 0.001836827251207886\n",
      "Epoch 13,\tL1 = 0.0017194041071070423\n",
      "Epoch 14,\tL1 = 0.0016364800636069095\n",
      "Epoch 15,\tL1 = 0.001553344757150803\n",
      "Epoch 16,\tL1 = 0.001519695935663326\n",
      "Epoch 17,\tL1 = 0.0014345592036845091\n",
      "Epoch 18,\tL1 = 0.0013966884221997882\n",
      "Epoch 19,\tL1 = 0.0013093448278862232\n",
      "\u001b[1mTraining time:   222.3440 s\u001b[0m\n",
      "\u001b[95mTesting TranAD on KITSUNE_FUZZING\u001b[0m\n",
      "      FN       FP  ROC/AUC       TN   TP   f1  precision  recall  threshold\n",
      "0    0.0    619.0      0.0  10602.0  0.0  0.0        0.0     0.0   0.005203\n",
      "1    0.0   2664.0      0.0   8557.0  0.0  0.0        0.0     0.0   0.000456\n",
      "2    0.0   7031.0      0.0   4190.0  0.0  0.0        0.0     0.0   0.003355\n",
      "3    0.0   2551.0      0.0   8670.0  0.0  0.0        0.0     0.0   0.003158\n",
      "4    0.0   2044.0      0.0   9177.0  0.0  0.0        0.0     0.0   0.000473\n",
      "..   ...      ...      ...      ...  ...  ...        ...     ...        ...\n",
      "110  0.0   1032.0      0.0  10189.0  0.0  0.0        0.0     0.0   0.001871\n",
      "111  0.0    622.0      0.0  10599.0  0.0  0.0        0.0     0.0   0.000770\n",
      "112  0.0   4547.0      0.0   6674.0  0.0  0.0        0.0     0.0   0.001927\n",
      "113  0.0  10349.0      0.0    872.0  0.0  0.0        0.0     0.0   0.000209\n",
      "114  0.0   1840.0      0.0   9381.0  0.0  0.0        0.0     0.0   0.000295\n",
      "\n",
      "[115 rows x 9 columns]\n",
      "{'FN': 0,\n",
      " 'FP': 10934,\n",
      " 'Hit@100%': nan,\n",
      " 'Hit@150%': nan,\n",
      " 'NDCG@100%': nan,\n",
      " 'NDCG@150%': nan,\n",
      " 'ROC/AUC': 0,\n",
      " 'TN': 287,\n",
      " 'TP': 0,\n",
      " 'f1': 0.0,"
     ]
    },
    {
     "name": "stderr",
     "output_type": "stream",
     "text": [
      "\n",
      " 90%|█████████ | 18/20 [03:30<00:21, 10.99s/it]\n",
      " 95%|█████████▌| 19/20 [03:30<00:10, 10.95s/it]\n",
      "                                               \n",
      "\n",
      " 95%|█████████▌| 19/20 [03:42<00:10, 10.95s/it]\n",
      "100%|██████████| 20/20 [03:42<00:00, 11.14s/it]\n",
      "100%|██████████| 20/20 [03:42<00:00, 11.12s/it]\n",
      "d:\\uczelnia_programowanie\\Anaconda\\lib\\site-packages\\numpy\\core\\fromnumeric.py:3373: RuntimeWarning: Mean of empty slice.\n",
      "  out=out, **kwargs)\n",
      "d:\\uczelnia_programowanie\\Anaconda\\lib\\site-packages\\numpy\\core\\_methods.py:170: RuntimeWarning: invalid value encountered in double_scalars\n",
      "  ret = ret.dtype.type(ret / rcount)\n"
     ]
    },
    {
     "name": "stdout",
     "output_type": "stream",
     "text": [
      "\n",
      " 'precision': 0.0,\n",
      " 'recall': 0.0,\n",
      " 'threshold': 0.0014245521581342274}\n"
     ]
    }
   ],
   "source": [
    "!python main.py --model TranAD --dataset KITSUNE_FUZZING --retrain --less "
   ]
  }
 ],
 "metadata": {
  "kernelspec": {
   "display_name": "base",
   "language": "python",
   "name": "python3"
  },
  "language_info": {
   "codemirror_mode": {
    "name": "ipython",
    "version": 3
   },
   "file_extension": ".py",
   "mimetype": "text/x-python",
   "name": "python",
   "nbconvert_exporter": "python",
   "pygments_lexer": "ipython3",
   "version": "3.7.4"
  }
 },
 "nbformat": 4,
 "nbformat_minor": 5
}
