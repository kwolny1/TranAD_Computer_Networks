{
 "cells": [
  {
   "cell_type": "code",
   "execution_count": 1,
   "id": "3341c2d6",
   "metadata": {},
   "outputs": [],
   "source": [
    "# !git clone https://github.com/imperial-qore/TranAD"
   ]
  },
  {
   "cell_type": "code",
   "execution_count": 3,
   "id": "d1ed8e02",
   "metadata": {},
   "outputs": [],
   "source": [
    "# !pip3 install torch==1.8.1+cpu torchvision==0.9.1+cpu torchaudio===0.8.1 -f https://download.pytorch.org/whl/torch_stable.html\n",
    "# !pip3 install -r requirements.txt"
   ]
  },
  {
   "cell_type": "code",
   "execution_count": 4,
   "id": "1e91c0de",
   "metadata": {},
   "outputs": [],
   "source": [
    "# In plotting.py plt.style.use(['science'...]) is no longer in use \n",
    "file_path = \"src/plotting.py\"\n",
    "\n",
    "with open(file_path, 'r') as file:\n",
    "    lines = file.readlines()\n",
    "\n",
    "if not lines[6].startswith(\"#\"): \n",
    "    lines[6] = '# ' + lines[6] if not lines[6].lstrip().startswith('#') else lines[6]\n",
    "\n",
    "with open(file_path, 'w') as file:\n",
    "    file.writelines(lines)"
   ]
  },
  {
   "cell_type": "code",
   "execution_count": 1,
   "id": "905c1c5b",
   "metadata": {},
   "outputs": [
    {
     "name": "stdout",
     "output_type": "stream",
     "text": [
      "d:\\MINI_DS\\Semester 1\\Optimization in Data Analysis\\code\\TranAD\n"
     ]
    }
   ],
   "source": [
    "%cd TranAD"
   ]
  },
  {
   "cell_type": "code",
   "execution_count": 2,
   "id": "9f68c60b",
   "metadata": {},
   "outputs": [
    {
     "name": "stdout",
     "output_type": "stream",
     "text": [
      "Python 3.7.4\n"
     ]
    }
   ],
   "source": [
    "!python --version"
   ]
  },
  {
   "cell_type": "code",
   "execution_count": 9,
   "id": "83b61719",
   "metadata": {},
   "outputs": [],
   "source": [
    "import subprocess\n",
    "def analyze_learning_rate(dataset, learning_rates, optimizer_name):\n",
    "    for lr in learning_rates:\n",
    "        command = [\n",
    "            \"python\", \"main.py\",\n",
    "            \"--model\", \"TranAD\",\n",
    "            \"--dataset\", dataset,\n",
    "            \"--retrain\",\n",
    "            \"--learning_rate\", str(lr), \n",
    "            \"--optimizer\", optimizer_name\n",
    "        ]\n",
    "        print(f\"Running with learning_rate={lr}, optimizer={optimizer_name}\")\n",
    "        subprocess.run(command)"
   ]
  },
  {
   "cell_type": "code",
   "execution_count": 6,
   "id": "edde5797",
   "metadata": {},
   "outputs": [],
   "source": [
    "!python preprocess.py NAB "
   ]
  },
  {
   "cell_type": "code",
   "execution_count": null,
   "id": "c7af4efa",
   "metadata": {},
   "outputs": [
    {
     "name": "stdout",
     "output_type": "stream",
     "text": [
      "\u001b[1mSlicing dataset to 20%\u001b[0m\n",
      "\u001b[92mCreating new model: TranAD\u001b[0m\n",
      "\u001b[95mTraining TranAD on NAB\u001b[0m\n",
      "Epoch 0,\tL1 = 0.04766945486465536\n",
      "Epoch 1,\tL1 = 0.017320237337694937\n",
      "Epoch 2,\tL1 = 0.008444794642850193\n",
      "Epoch 3,\tL1 = 0.004147830553395232\n",
      "Epoch 4,\tL1 = 0.0030039945974540366\n",
      "\u001b[1mTraining time:     1.1800 s\u001b[0m\n",
      "\u001b[95mTesting TranAD on NAB\u001b[0m\n",
      "    FN   FP   ROC/AUC      TN    TP      f1  precision  recall  threshold\n",
      "0  0.0  9.0  0.998877  3999.0  24.0  0.8421   0.727273     1.0   0.014789\n",
      "{'FN': 0,\n",
      " 'FP': 9,\n",
      " 'Hit@100%': 1.0,\n",
      " 'Hit@150%': 1.0,\n",
      " 'ROC/AUC': 0.998877245508982,\n",
      " 'TN': 3999,\n",
      " 'TP': 24,\n",
      " 'f1': 0.8421000923643451,\n",
      " 'precision': 0.7272725068871191,\n",
      " 'recall': 0.9999995833335069,\n"
     ]
    },
    {
     "name": "stderr",
     "output_type": "stream",
     "text": [
      "\n",
      "  0%|          | 0/5 [00:00<?, ?it/s]\n",
      "                                     \n",
      "\n",
      "  0%|          | 0/5 [00:00<?, ?it/s]\n",
      " 20%|██        | 1/5 [00:00<00:00,  4.72it/s]\n",
      "                                             \n",
      "\n",
      " 20%|██        | 1/5 [00:00<00:00,  4.72it/s]\n",
      " 40%|████      | 2/5 [00:00<00:00,  4.29it/s]\n",
      "                                             \n",
      "\n",
      " 40%|████      | 2/5 [00:00<00:00,  4.29it/s]\n",
      " 60%|██████    | 3/5 [00:00<00:00,  4.90it/s]\n",
      "                                             \n",
      "\n",
      " 60%|██████    | 3/5 [00:00<00:00,  4.90it/s]\n",
      " 80%|████████  | 4/5 [00:00<00:00,  4.94it/s]\n",
      "                                             \n",
      "\n",
      " 80%|████████  | 4/5 [00:01<00:00,  4.94it/s]\n",
      "100%|██████████| 5/5 [00:01<00:00,  3.91it/s]\n",
      "100%|██████████| 5/5 [00:01<00:00,  4.24it/s]\n"
     ]
    },
    {
     "name": "stdout",
     "output_type": "stream",
     "text": [
      " 'threshold': 0.014788649242545955}\n"
     ]
    }
   ],
   "source": [
    "!python main.py --model TranAD --dataset NAB --retrain --less "
   ]
  },
  {
   "cell_type": "code",
   "execution_count": 8,
   "id": "6b0a8f9a",
   "metadata": {},
   "outputs": [
    {
     "name": "stdout",
     "output_type": "stream",
     "text": [
      "Running with learning_rate=0.001\n"
     ]
    }
   ],
   "source": [
    "learning_rates = [0.001]\n",
    "optimizer_name = \"SGD\"\n",
    "analyze_learning_rate(\"NAB\", learning_rates, optimizer_name)"
   ]
  },
  {
   "cell_type": "code",
   "execution_count": 16,
   "id": "1ce191cf",
   "metadata": {},
   "outputs": [
    {
     "name": "stdout",
     "output_type": "stream",
     "text": [
      "\u001b[92mCreating new model: TranAD\u001b[0m\n",
      "\u001b[95mTraining TranAD on NAB\u001b[0m\n",
      "Epoch 0,\tL1 = 0.0139506547648456\n",
      "Epoch 1,\tL1 = 0.005427886247275793\n",
      "Epoch 2,\tL1 = 0.002261421394137679\n",
      "Epoch 3,\tL1 = 0.0019642349849796387\n",
      "Epoch 4,\tL1 = 0.0017362115296312764\n",
      "\u001b[1mTraining time:     3.6526 s\u001b[0m\n",
      "\u001b[95mTesting TranAD on NAB\u001b[0m\n",
      "    FN   FP   ROC/AUC      TN    TP        f1  precision  recall  threshold\n",
      "0  0.0  3.0  0.999626  4005.0  24.0  0.941171   0.888889     1.0   0.023705\n",
      "{'FN': 0,\n",
      " 'FP': 3,\n",
      " 'Hit@100%': 1.0,\n",
      " 'Hit@150%': 1.0,\n",
      " 'ROC/AUC': 0.999625748502994,\n",
      " 'TN': 4005,\n",
      " 'TP': 24,\n",
      " 'f1': 0.9411711188269714,\n",
      " 'precision': 0.8888885596709039,\n",
      " 'recall': 0.9999995833335069,\n",
      " 'threshold': 0.0237048724106939}\n"
     ]
    },
    {
     "name": "stderr",
     "output_type": "stream",
     "text": [
      "\n",
      "  0%|          | 0/5 [00:00<?, ?it/s]\n",
      "                                     \n",
      "\n",
      "  0%|          | 0/5 [00:00<?, ?it/s]\n",
      " 20%|██        | 1/5 [00:00<00:02,  1.33it/s]\n",
      "                                             \n",
      "\n",
      " 20%|██        | 1/5 [00:01<00:02,  1.33it/s]\n",
      " 40%|████      | 2/5 [00:01<00:02,  1.37it/s]\n",
      "                                             \n",
      "\n",
      " 40%|████      | 2/5 [00:02<00:02,  1.37it/s]\n",
      " 60%|██████    | 3/5 [00:02<00:01,  1.40it/s]\n",
      "                                             \n",
      "\n",
      " 60%|██████    | 3/5 [00:02<00:01,  1.40it/s]\n",
      " 80%|████████  | 4/5 [00:02<00:00,  1.40it/s]\n",
      "                                             \n",
      "\n",
      " 80%|████████  | 4/5 [00:03<00:00,  1.40it/s]\n",
      "100%|██████████| 5/5 [00:03<00:00,  1.36it/s]\n",
      "100%|██████████| 5/5 [00:03<00:00,  1.37it/s]\n"
     ]
    }
   ],
   "source": [
    "!python main.py --model TranAD --dataset NAB "
   ]
  },
  {
   "cell_type": "code",
   "execution_count": null,
   "id": "ca85ef4a",
   "metadata": {},
   "outputs": [
    {
     "name": "stdout",
     "output_type": "stream",
     "text": [
      "Running with learning_rate=0.0001\n",
      "Running with learning_rate=0.0005\n",
      "Running with learning_rate=0.001\n",
      "Running with learning_rate=0.005\n",
      "Running with learning_rate=0.01\n",
      "Running with learning_rate=0.05\n",
      "Running with learning_rate=0.1\n",
      "Running with learning_rate=0.5\n"
     ]
    }
   ],
   "source": [
    "learning_rates = [0.0001, 0.0005, 0.001, 0.005, 0.01, 0.05, 0.1, 0.5]\n",
    "optimizer_name = \"AdamW\"\n",
    "analyze_learning_rate(\"NAB\", learning_rates, optimizer_name)\n"
   ]
  },
  {
   "cell_type": "code",
   "execution_count": 27,
   "id": "1ab07acb",
   "metadata": {},
   "outputs": [
    {
     "name": "stdout",
     "output_type": "stream",
     "text": [
      "machine-1-1 train machine-1-1.txt (28479, 38)\n",
      "machine-1-1 test machine-1-1.txt (28479, 38)\n",
      "machine-1-1 labels machine-1-1.txt (28479, 38)\n",
      "machine-1-2 train machine-1-2.txt (23694, 38)\n",
      "machine-1-2 test machine-1-2.txt (23694, 38)\n",
      "machine-1-2 labels machine-1-2.txt (23694, 38)\n",
      "machine-1-3 train machine-1-3.txt (23702, 38)\n",
      "machine-1-3 test machine-1-3.txt (23703, 38)\n",
      "machine-1-3 labels machine-1-3.txt (23703, 38)\n",
      "machine-1-4 train machine-1-4.txt (23706, 38)\n",
      "machine-1-4 test machine-1-4.txt (23707, 38)\n",
      "machine-1-4 labels machine-1-4.txt (23707, 38)\n",
      "machine-1-5 train machine-1-5.txt (23705, 38)\n",
      "machine-1-5 test machine-1-5.txt (23706, 38)\n",
      "machine-1-5 labels machine-1-5.txt (23706, 38)\n",
      "machine-1-6 train machine-1-6.txt (23688, 38)\n",
      "machine-1-6 test machine-1-6.txt (23689, 38)\n",
      "machine-1-6 labels machine-1-6.txt (23689, 38)\n",
      "machine-1-7 train machine-1-7.txt (23697, 38)\n",
      "machine-1-7 test machine-1-7.txt (23697, 38)\n",
      "machine-1-7 labels machine-1-7.txt (23697, 38)\n",
      "machine-1-8 train machine-1-8.txt (23698, 38)\n",
      "machine-1-8 test machine-1-8.txt (23699, 38)\n",
      "machine-1-8 labels machine-1-8.txt (23699, 38)\n",
      "machine-2-1 train machine-2-1.txt (23693, 38)\n",
      "machine-2-1 test machine-2-1.txt (23694, 38)\n",
      "machine-2-1 labels machine-2-1.txt (23694, 38)\n",
      "machine-2-2 train machine-2-2.txt (23699, 38)\n",
      "machine-2-2 test machine-2-2.txt (23700, 38)\n",
      "machine-2-2 labels machine-2-2.txt (23700, 38)\n",
      "machine-2-3 train machine-2-3.txt (23688, 38)\n",
      "machine-2-3 test machine-2-3.txt (23689, 38)\n",
      "machine-2-3 labels machine-2-3.txt (23689, 38)\n",
      "machine-2-4 train machine-2-4.txt (23689, 38)\n",
      "machine-2-4 test machine-2-4.txt (23689, 38)\n",
      "machine-2-4 labels machine-2-4.txt (23689, 38)\n",
      "machine-2-5 train machine-2-5.txt (23688, 38)\n",
      "machine-2-5 test machine-2-5.txt (23689, 38)\n",
      "machine-2-5 labels machine-2-5.txt (23689, 38)\n",
      "machine-2-6 train machine-2-6.txt (28743, 38)\n",
      "machine-2-6 test machine-2-6.txt (28743, 38)\n",
      "machine-2-6 labels machine-2-6.txt (28743, 38)\n",
      "machine-2-7 train machine-2-7.txt (23696, 38)\n",
      "machine-2-7 test machine-2-7.txt (23696, 38)\n",
      "machine-2-7 labels machine-2-7.txt (23696, 38)\n",
      "machine-2-8 train machine-2-8.txt (23702, 38)\n",
      "machine-2-8 test machine-2-8.txt (23703, 38)\n",
      "machine-2-8 labels machine-2-8.txt (23703, 38)\n",
      "machine-2-9 train machine-2-9.txt (28722, 38)\n",
      "machine-2-9 test machine-2-9.txt (28722, 38)\n",
      "machine-2-9 labels machine-2-9.txt (28722, 38)\n",
      "machine-3-1 train machine-3-1.txt (28700, 38)\n",
      "machine-3-1 test machine-3-1.txt (28700, 38)\n",
      "machine-3-1 labels machine-3-1.txt (28700, 38)\n",
      "machine-3-10 train machine-3-10.txt (23692, 38)\n",
      "machine-3-10 test machine-3-10.txt (23693, 38)\n",
      "machine-3-10 labels machine-3-10.txt (23693, 38)\n",
      "machine-3-11 train machine-3-11.txt (28695, 38)\n",
      "machine-3-11 test machine-3-11.txt (28696, 38)\n",
      "machine-3-11 labels machine-3-11.txt (28696, 38)\n",
      "machine-3-2 train machine-3-2.txt (23702, 38)\n",
      "machine-3-2 test machine-3-2.txt (23703, 38)\n",
      "machine-3-2 labels machine-3-2.txt (23703, 38)\n",
      "machine-3-3 train machine-3-3.txt (23703, 38)\n",
      "machine-3-3 test machine-3-3.txt (23703, 38)\n",
      "machine-3-3 labels machine-3-3.txt (23703, 38)\n",
      "machine-3-4 train machine-3-4.txt (23687, 38)\n",
      "machine-3-4 test machine-3-4.txt (23687, 38)\n",
      "machine-3-4 labels machine-3-4.txt (23687, 38)\n",
      "machine-3-5 train machine-3-5.txt (23690, 38)\n",
      "machine-3-5 test machine-3-5.txt (23691, 38)\n",
      "machine-3-5 labels machine-3-5.txt (23691, 38)\n",
      "machine-3-6 train machine-3-6.txt (28726, 38)\n",
      "machine-3-6 test machine-3-6.txt (28726, 38)\n",
      "machine-3-6 labels machine-3-6.txt (28726, 38)\n",
      "machine-3-7 train machine-3-7.txt (28705, 38)\n",
      "machine-3-7 test machine-3-7.txt (28705, 38)\n",
      "machine-3-7 labels machine-3-7.txt (28705, 38)\n",
      "machine-3-8 train machine-3-8.txt (28703, 38)\n",
      "machine-3-8 test machine-3-8.txt (28704, 38)\n",
      "machine-3-8 labels machine-3-8.txt (28704, 38)\n",
      "machine-3-9 train machine-3-9.txt (28713, 38)\n",
      "machine-3-9 test machine-3-9.txt (28713, 38)\n",
      "machine-3-9 labels machine-3-9.txt (28713, 38)\n"
     ]
    }
   ],
   "source": [
    "!python preprocess.py SMD "
   ]
  },
  {
   "cell_type": "code",
   "execution_count": 3,
   "id": "a6862d01",
   "metadata": {},
   "outputs": [
    {
     "name": "stdout",
     "output_type": "stream",
     "text": [
      "\u001b[1mSlicing dataset to 20%\u001b[0m\n",
      "\u001b[92mCreating new model: TranAD\u001b[0m\n",
      "\u001b[95mTraining TranAD on SMD\u001b[0m\n",
      "Epoch 0,\tL1 = 0.15016913989744207\n",
      "Epoch 1,\tL1 = 0.07532158260687775\n",
      "Epoch 2,\tL1 = 0.011504363732349828\n",
      "Epoch 3,\tL1 = 0.006319360360897392\n",
      "Epoch 4,\tL1 = 0.005579655691963278\n",
      "\u001b[1mTraining time:    37.6772 s\u001b[0m\n",
      "\u001b[95mTesting TranAD on SMD\u001b[0m\n",
      "        FN      FP   ROC/AUC       TN  ...        f1  precision  recall   threshold\n",
      "0      0.0  4949.0  0.904160  20870.0  ...  0.518060   0.349586     1.0    0.015198\n",
      "1      0.0  2145.0  0.959902  24602.0  ...  0.617575   0.446737     1.0    0.047190\n",
      "2      0.0  4198.0  0.922842  23006.0  ...  0.377887   0.232962     1.0    0.018925\n"
     ]
    },
    {
     "name": "stderr",
     "output_type": "stream",
     "text": [
      "\n",
      "  0%|          | 0/5 [00:00<?, ?it/s]\n",
      "                                     \n",
      "\n",
      "  0%|          | 0/5 [00:07<?, ?it/s]\n",
      " 20%|██        | 1/5 [00:07<00:30,  7.66s/it]\n",
      "                                             \n",
      "\n",
      " 20%|██        | 1/5 [00:14<00:30,  7.66s/it]\n",
      " 40%|████      | 2/5 [00:14<00:22,  7.46s/it]\n",
      "                                             \n",
      "\n",
      " 40%|████      | 2/5 [00:22<00:22,  7.46s/it]\n",
      " 60%|██████    | 3/5 [00:22<00:14,  7.35s/it]\n",
      "                                             \n",
      "\n",
      " 60%|██████    | 3/5 [00:29<00:14,  7.35s/it]\n",
      " 80%|████████  | 4/5 [00:29<00:07,  7.41s/it]\n",
      "                                             "
     ]
    },
    {
     "name": "stdout",
     "output_type": "stream",
     "text": [
      "3      0.0  4950.0  0.909021  22254.0  ...  0.339997   0.204819     1.0    0.015299\n",
      "4      0.0     0.0  0.000000  28479.0  ...  0.000000   0.000000     0.0    0.000862\n",
      "5    554.0     0.0  0.500000  27925.0  ...  0.000000   0.000000     0.0    0.787496\n",
      "6      0.0     9.0  0.999839  27916.0  ...  0.991938   0.984014     1.0    0.086875\n",
      "7      0.0     0.0  0.000000  28479.0  ...  0.000000   0.000000     0.0    0.000415\n",
      "8   2667.0     0.0  0.500000  25812.0  ...  0.000000   0.000000     0.0    9.530160\n",
      "9   2660.0     0.0  0.500000  25819.0  ...  0.000000   0.000000     0.0  105.308685\n",
      "10  1275.0     1.0  0.499982  27203.0  ...  0.000000   0.000000     0.0    0.421102\n",
      "11     0.0    28.0  0.999458  25791.0  ...  0.994759   0.989583     1.0    0.055127\n",
      "12     0.0    46.0  0.999109  25766.0  ...  0.991445   0.983045     1.0    0.005086\n",
      "13     0.0   172.0  0.996668  25640.0  ...  0.968756   0.939415     1.0    0.008657\n",
      "14     0.0   272.0  0.994731  25540.0  ...  0.951476   0.907452     1.0    0.021677\n",
      "15  1275.0     1.0  0.499982  27203.0  ...  0.000000   0.000000     0.0    0.430459\n",
      "16     0.0     0.0  0.000000  28479.0  ...  0.000000   0.000000     0.0    0.000745\n",
      "17     0.0     0.0  0.000000  28479.0  ...  0.000000   0.000000     0.0    0.000280\n",
      "18     0.0  5744.0  0.897153  22181.0  ...  0.161703   0.087964     1.0    0.016781\n",
      "19     0.0  5350.0  0.904208  22575.0  ...  0.171569   0.093835     1.0    0.017966\n",
      "20     0.0  5020.0  0.910116  22905.0  ...  0.180808   0.099390     1.0    0.022866\n",
      "21     0.0  5035.0  0.909848  22890.0  ...  0.180366   0.099123     1.0    0.015032\n",
      "22     0.0     2.0  0.000000  28477.0  ...  0.000000   0.000000     0.0    0.545734\n",
      "23     0.0     4.0  0.999928  27921.0  ...  0.996398   0.992832     1.0    0.002208\n",
      "24     0.0  4737.0  0.912936  22467.0  ...  0.349935   0.212076     1.0    0.003380\n",
      "25     0.0    54.0  0.999033  27871.0  ...  0.953523   0.911184     1.0    0.001051\n",
      "26     0.0     0.0  1.000000  27925.0  ...  0.999995   1.000000     1.0    0.000693\n",
      "27     0.0  4668.0  0.914204  22536.0  ...  0.353281   0.214538     1.0    0.015422\n",
      "28     0.0     0.0  1.000000  27925.0  ...  0.999995   1.000000     1.0    0.001224\n",
      "29     0.0  7136.0  0.872229  20789.0  ...  0.134400   0.072042     1.0    0.000520\n",
      "30     0.0  5051.0  0.909561  22874.0  ...  0.179898   0.098840     1.0    0.009638\n",
      "31     0.0  3683.0  0.934056  24242.0  ...  0.231265   0.130753     1.0    0.011302\n",
      "32     0.0     0.0  1.000000  27925.0  ...  0.999995   1.000000     1.0    0.000729\n",
      "33     0.0     0.0  1.000000  27925.0  ...  0.999995   1.000000     1.0    0.001747\n",
      "34     0.0  5166.0  0.907502  22759.0  ...  0.176600   0.096853     1.0    0.016406\n",
      "35     0.0  5185.0  0.907162  22740.0  ...  0.176067   0.096532     1.0    0.016189\n",
      "36     0.0     0.0  0.000000  28479.0  ...  0.000000   0.000000     0.0    0.001353\n",
      "37     0.0     0.0  0.000000  28479.0  ...  0.000000   0.000000     0.0    0.001373\n",
      "\n",
      "[38 rows x 9 columns]\n",
      "{'FN': 7,\n",
      " 'FP': 712,\n",
      " 'Hit@100%': 0.4630422781253725,\n",
      " 'Hit@150%': 0.5950907922224007,\n",
      " 'NDCG@100%': 0.4699587346480527,\n",
      " 'NDCG@150%': 0.5487333986956207,\n",
      " 'ROC/AUC': 0.984895629329458,\n",
      " 'TN': 25100,\n",
      " 'TP': 2660,\n",
      " 'f1': 0.880935618324324,\n",
      " 'precision': 0.7888493452287979,\n",
      " 'recall': 0.9973753243442994,\n",
      " 'threshold': 0.03380556338865523}\n"
     ]
    },
    {
     "name": "stderr",
     "output_type": "stream",
     "text": [
      "\n",
      "\n",
      " 80%|████████  | 4/5 [00:37<00:07,  7.41s/it]\n",
      "100%|██████████| 5/5 [00:37<00:00,  7.61s/it]\n",
      "100%|██████████| 5/5 [00:37<00:00,  7.54s/it]\n"
     ]
    }
   ],
   "source": [
    "!python main.py --model TranAD --dataset SMD --retrain --less"
   ]
  },
  {
   "cell_type": "code",
   "execution_count": null,
   "id": "9650696f",
   "metadata": {},
   "outputs": [
    {
     "name": "stdout",
     "output_type": "stream",
     "text": [
      "Running with learning_rate=1e-05\n",
      "Running with learning_rate=5e-05\n",
      "Running with learning_rate=0.0001\n",
      "Running with learning_rate=0.0005\n",
      "Running with learning_rate=0.001\n",
      "Running with learning_rate=0.005\n"
     ]
    }
   ],
   "source": [
    "learning_rates = [0.00001, 0.00005, 0.0001, 0.0005, 0.001, 0.005, 0.01, 0.05]\n",
    "analyze_learning_rate(\"SMD\", learning_rates)"
   ]
  }
 ],
 "metadata": {
  "kernelspec": {
   "display_name": "base",
   "language": "python",
   "name": "python3"
  },
  "language_info": {
   "codemirror_mode": {
    "name": "ipython",
    "version": 3
   },
   "file_extension": ".py",
   "mimetype": "text/x-python",
   "name": "python",
   "nbconvert_exporter": "python",
   "pygments_lexer": "ipython3",
   "version": "3.7.4"
  }
 },
 "nbformat": 4,
 "nbformat_minor": 5
}
